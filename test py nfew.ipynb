{
 "cells": [
  {
   "cell_type": "code",
   "execution_count": 3,
   "metadata": {
    "tags": []
   },
   "outputs": [
    {
     "ename": "ModuleNotFoundError",
     "evalue": "No module named 'testing_wing'",
     "output_type": "error",
     "traceback": [
      "\u001b[1;31m---------------------------------------------------------------------------\u001b[0m",
      "\u001b[1;31mModuleNotFoundError\u001b[0m                       Traceback (most recent call last)",
      "Cell \u001b[1;32mIn[3], line 1\u001b[0m\n\u001b[1;32m----> 1\u001b[0m \u001b[38;5;28;01mimport\u001b[39;00m \u001b[38;5;21;01mtesting_wing\u001b[39;00m\n",
      "\u001b[1;31mModuleNotFoundError\u001b[0m: No module named 'testing_wing'"
     ]
    }
   ],
   "source": [
    "import testing_wing"
   ]
  },
  {
   "cell_type": "code",
   "execution_count": 2,
   "metadata": {},
   "outputs": [
    {
     "name": "stdout",
     "output_type": "stream",
     "text": [
      "Multi core processing enabled using 1 cores. \n",
      "\n",
      "Master PID: 15160 \n",
      "\n",
      "Slave PIDs: \n",
      "15160\n",
      "parallel: 0.07277345657348633\n",
      "Multi core processing enabled using 10 cores. \n",
      "\n",
      "Master PID: 15160 \n",
      "\n",
      "Slave PIDs: \n",
      "16400, 18620, 17452, 20280, 17900, \n",
      "3888, 11616, 13316, 10748, 20428\n"
     ]
    }
   ],
   "source": [
    "import paneltime as pt\n",
    "import pandas as pd\n",
    "import numpy as np\n",
    "import time"
   ]
  },
  {
   "cell_type": "code",
   "execution_count": 7,
   "metadata": {
    "tags": []
   },
   "outputs": [
    {
     "name": "stdout",
     "output_type": "stream",
     "text": [
      "Analyzing variables ...\n",
      "Creating panel\n",
      "its:30, LL:-6565.810949996525\n",
      "its:34, LL:-6520.438691808895\n",
      "its:36, LL:-6513.326062092716\n",
      "its:44, LL:-6504.019795963418\n",
      "its:46, LL:-6503.550649964674\n",
      "its:48, LL:-6503.356667671217\n",
      "its:50, LL:-6503.044523848983\n",
      "its:52, LL:-6502.778317751588\n",
      "its:54, LL:-6502.52171246852\n",
      "its:56, LL:-6502.432595932699\n",
      "its:58, LL:-6502.398269634285\n",
      "its:60, LL:-6502.382743762916\n",
      "its:62, LL:-6502.381554808698\n",
      "its:64, LL:-6502.381176081226\n",
      "its:67, LL:-6502.381158828616\n",
      "its:67, LL:-6502.381158828616\n",
      "Convergence on zero gradient; local or global minimum identified\n",
      "LL=-6502.381158828616  success=True  t=7.394742012023926  its: 67   node: 8\n",
      "[  -3.23873632    0.90627392    1.20862653   -0.55751244    0.44263265\n",
      "    0.34593072   -0.53850912    0.04209625    0.96117865    0.02890873\n",
      "   -0.02296327 3851.32488514]\n",
      "8.034464597702026\n"
     ]
    }
   ],
   "source": [
    "t0 = time.time()\n",
    "\n",
    "pt.options.pqdkm.set([2,2,0,2,2])\n",
    "pt.options.fixed_random_group_eff.set(0)\n",
    "pt.options.fixed_random_time_eff.set(0)\n",
    "pt.options.fixed_random_variance_eff.set(0)\n",
    "pt.options.multicoll_threshold.set(1000)\n",
    "pt.options.ARMA_constraint.set(4)\n",
    "\n",
    "df=pd.read_pickle(\"simulations/data0.df\")\n",
    "pt.execute(\"Y~X0+X1\",df,T='dates',ID=\"IDs\", console_output=True)\n",
    "\n",
    "print(time.time()-t0)"
   ]
  },
  {
   "cell_type": "markdown",
   "metadata": {},
   "source": [
    "## importlib.reload(pt)\n",
    "t0 = time.time()\n",
    "\n",
    "pt.options.pqdkm.set([2,2,0,2,2])\n",
    "pt.options.loadargs.set(0)\n",
    "pt.options.arguments.set('')\n",
    "\n",
    "pt.options.arguments.set('')\n",
    "\n",
    "pt.options.fixed_random_group_eff.set(0)\n",
    "pt.options.fixed_random_time_eff.set(0)\n",
    "pt.options.fixed_random_variance_eff.set(0)\n",
    "\n",
    "df=pd.read_pickle(\"simulations/data0.df\")\n",
    "df\n",
    "pt.execute(\"Y~X0+X1\",df,T='dates',ID=\"IDs\")\n",
    "\n",
    "print(time.time()-t0)"
   ]
  },
  {
   "cell_type": "markdown",
   "metadata": {},
   "source": [
    "# R:"
   ]
  },
  {
   "cell_type": "code",
   "execution_count": 2,
   "metadata": {
    "tags": []
   },
   "outputs": [
    {
     "name": "stdout",
     "output_type": "stream",
     "text": [
      "The rpy2.ipython extension is already loaded. To reload it, use:\n",
      "  %reload_ext rpy2.ipython\n",
      "The rpy2.ipython extension is already loaded. To reload it, use:\n",
      "  %reload_ext rpy2.ipython\n"
     ]
    }
   ],
   "source": [
    "#restart and disconnect from wingstub first\n",
    "\n",
    "import rpy2\n",
    "import pandas as pd\n",
    "import rpy2.robjects.packages as r\n",
    "if False:#Set to true first time\n",
    "    utils = r.importr(\"utils\")\n",
    "    utils.chooseCRANmirror(ind=75)\n",
    "    utils.install_packages(\"IRkernel\")\n",
    "    utils.install_packages(\"devtools\")\n",
    "\n",
    "df=pd.read_pickle(\"simulations/data3.df\")\n",
    "%load_ext rpy2.ipython\n",
    "%load_ext rpy2.ipython"
   ]
  },
  {
   "cell_type": "code",
   "execution_count": 3,
   "metadata": {},
   "outputs": [],
   "source": [
    "df=pd.read_pickle(\"simulations/data4.df\")"
   ]
  },
  {
   "cell_type": "code",
   "execution_count": 4,
   "metadata": {},
   "outputs": [
    {
     "name": "stdout",
     "output_type": "stream",
     "text": [
      "[1] TRUE\n"
     ]
    },
    {
     "data": {
      "image/png": "[encoded data removed]"
     },
     "metadata": {},
     "output_type": "display_data"
    }
   ],
   "source": [
    "%%R -i df -w 5 -h 5 --units in -r 200\n",
    "# import df from global environment\n",
    "# make default figure size 5 by 5 inches with 200 dpi resolution\n",
    "\n",
    "require(rugarch) || {install.packages(\"rugarch\"); require(rugarch)};"
   ]
  },
  {
   "cell_type": "code",
   "execution_count": 5,
   "metadata": {},
   "outputs": [
    {
     "name": "stdout",
     "output_type": "stream",
     "text": [
      "\n",
      "*---------------------------------*\n",
      "*          GARCH Model Fit        *\n",
      "*---------------------------------*\n",
      "\n",
      "Conditional Variance Dynamics \t\n",
      "-----------------------------------\n",
      "GARCH Model\t: fGARCH(2,2)\n",
      "fGARCH Sub-Model\t: GARCH\n",
      "Mean Model\t: ARFIMA(2,0,2)\n",
      "Distribution\t: norm \n",
      "\n",
      "Optimal Parameters\n",
      "------------------------------------\n",
      "         Estimate  Std. Error   t value Pr(>|t|)\n",
      "mu      -2.690485    2.274092 -1.183103 0.236768\n",
      "ar1     -0.094883    1.319609 -0.071902 0.942680\n",
      "ar2      0.959363    1.360176  0.705323 0.480609\n",
      "ma1     -0.057016    1.261845 -0.045184 0.963960\n",
      "ma2     -0.821364    1.093095 -0.751411 0.452405\n",
      "mxreg1   1.537387    0.202155  7.605010 0.000000\n",
      "mxreg2   0.734763    0.140417  5.232727 0.000000\n",
      "omega  112.098252   51.595568  2.172633 0.029808\n",
      "alpha1   0.323036    0.040323  8.011266 0.000000\n",
      "alpha2   0.024512    0.026171  0.936625 0.348952\n",
      "beta1    0.651452    0.128890  5.054324 0.000000\n",
      "beta2    0.000000    0.062526  0.000001 0.999999\n",
      "\n",
      "Robust Standard Errors:\n",
      "         Estimate  Std. Error   t value Pr(>|t|)\n",
      "mu      -2.690485     4.90579 -0.548430 0.583397\n",
      "ar1     -0.094883     7.32306 -0.012957 0.989662\n",
      "ar2      0.959363     7.53538  0.127315 0.898691\n",
      "ma1     -0.057016     7.00279 -0.008142 0.993504\n",
      "ma2     -0.821364     6.09934 -0.134665 0.892877\n",
      "mxreg1   1.537387     0.64115  2.397853 0.016491\n",
      "mxreg2   0.734763     0.38757  1.895841 0.057981\n",
      "omega  112.098252   247.18989  0.453490 0.650196\n",
      "alpha1   0.323036     0.11269  2.866639 0.004149\n",
      "alpha2   0.024512     0.14263  0.171859 0.863549\n",
      "beta1    0.651452     0.38376  1.697536 0.089595\n",
      "beta2    0.000000     0.43532  0.000000 1.000000\n",
      "\n",
      "LogLikelihood : -6579.762 \n",
      "\n",
      "Information Criteria\n",
      "------------------------------------\n",
      "                   \n",
      "Akaike       13.184\n",
      "Bayes        13.242\n",
      "Shibata      13.183\n",
      "Hannan-Quinn 13.206\n",
      "\n",
      "Weighted Ljung-Box Test on Standardized Residuals\n",
      "------------------------------------\n",
      "                         statistic p-value\n",
      "Lag[1]                       2.437  0.1185\n",
      "Lag[2*(p+q)+(p+q)-1][11]    72.251  0.0000\n",
      "Lag[4*(p+q)+(p+q)-1][19]    86.837  0.0000\n",
      "d.o.f=4\n",
      "H0 : No serial correlation\n",
      "\n",
      "Weighted Ljung-Box Test on Standardized Squared Residuals\n",
      "------------------------------------\n",
      "                         statistic p-value\n",
      "Lag[1]                      0.7142  0.3980\n",
      "Lag[2*(p+q)+(p+q)-1][11]    3.2872  0.8331\n",
      "Lag[4*(p+q)+(p+q)-1][19]    4.6122  0.9576\n",
      "d.o.f=4\n",
      "\n",
      "Weighted ARCH LM Tests\n",
      "------------------------------------\n",
      "            Statistic Shape Scale P-Value\n",
      "ARCH Lag[5]     1.937 0.500 2.000  0.1640\n",
      "ARCH Lag[7]     2.445 1.473 1.746  0.4138\n",
      "ARCH Lag[9]     2.604 2.402 1.619  0.6405\n",
      "\n",
      "Nyblom stability test\n",
      "------------------------------------\n",
      "Joint Statistic:  10.1249\n",
      "Individual Statistics:              \n",
      "mu     0.07414\n",
      "ar1    0.05084\n",
      "ar2    0.06688\n",
      "ma1    0.43967\n",
      "ma2    0.38712\n",
      "mxreg1 0.08080\n",
      "mxreg2 0.04794\n",
      "omega  0.15166\n",
      "alpha1 0.06414\n",
      "alpha2 0.17941\n",
      "beta1  0.10107\n",
      "beta2  0.12064\n",
      "\n",
      "Asymptotic Critical Values (10% 5% 1%)\n",
      "Joint Statistic:     \t 2.69 2.96 3.51\n",
      "Individual Statistic:\t 0.35 0.47 0.75\n",
      "\n",
      "Sign Bias Test\n",
      "------------------------------------\n",
      "                   t-value   prob sig\n",
      "Sign Bias           0.5771 0.5640    \n",
      "Negative Sign Bias  0.8909 0.3732    \n",
      "Positive Sign Bias  0.9751 0.3298    \n",
      "Joint Effect        2.1876 0.5344    \n",
      "\n",
      "\n",
      "Adjusted Pearson Goodness-of-Fit Test:\n",
      "------------------------------------\n",
      "  group statistic p-value(g-1)\n",
      "1    20     106.8    3.037e-14\n",
      "2    30     122.1    2.149e-13\n",
      "3    40     124.9    6.376e-11\n",
      "4    50     136.9    3.030e-10\n",
      "\n",
      "\n",
      "Elapsed time : 7.320218 \n",
      "\n",
      "[1] \"time:\"\n",
      "   user  system elapsed \n",
      "   8.42    0.37    8.64 \n"
     ]
    },
    {
     "data": {
      "image/png": "[encoded data removed]"
     },
     "metadata": {},
     "output_type": "display_data"
    }
   ],
   "source": [
    "%%R -i df -w 5 -h 5 --units in -r 200\n",
    "data <- read.csv(\"B:/Forskning/Papers/paneltime/pt_test/src/simulations/data0.csv\", header=TRUE)\n",
    "ptm <- proc.time()\n",
    "garchMod <- ugarchspec(\n",
    "  variance.model=list(model=\"fGARCH\",\n",
    "                      garchOrder=c(2,2),\n",
    "                      submodel=\"GARCH\"),\n",
    "  \n",
    "  mean.model=list(armaOrder=c(2,2),\n",
    "                  include.mean=TRUE,\n",
    "                  external.regressors=data.matrix(subset(data, select=c(\"X0\",\"X1\")))\n",
    "  ), \n",
    "  distribution.model=\"norm\"\n",
    ")\n",
    "garchFit <- ugarchfit(spec=garchMod, data=data$Y)\n",
    "print(garchFit)\n",
    "print(\"time:\")\n",
    "print(proc.time() - ptm)"
   ]
  },
  {
   "cell_type": "code",
   "execution_count": null,
   "metadata": {},
   "outputs": [],
   "source": [
    "%%R -i df -w 5 -h 5 --units in -r 200\n",
    "# import df from global environment\n",
    "# make default figure size 5 by 5 inches with 200 dpi resolution\n",
    "\n",
    "require(rugarch) || {install.packages(\"rugarch\"); require(rugarch)}\n",
    "\n",
    "ptm <- proc.time()\n",
    "garchMod <- ugarchspec(\n",
    "\n",
    "    variance.model=list(model=\"fGARCH\",\n",
    "                      garchOrder=c(1,0),\n",
    "                      submodel=\"GARCH\"),\n",
    "    \n",
    "  mean.model=list(armaOrder=c(2,2),\n",
    "                  include.mean=TRUE,\n",
    "                  external.regressors=data.matrix(subset(df, select=c(\"X0\",\"X1\")))\n",
    "  ), \n",
    "  distribution.model=\"norm\"\n",
    ")\n",
    "garchFit <- ugarchfit(spec=garchMod, data=df$Y)\n",
    "print(garchFit)\n",
    "print(\"time:\")\n",
    "print(proc.time() - ptm)"
   ]
  },
  {
   "cell_type": "code",
   "execution_count": null,
   "metadata": {},
   "outputs": [],
   "source": []
  }
 ],
 "metadata": {
  "kernelspec": {
   "display_name": "Python 3 (ipykernel)",
   "language": "python",
   "name": "python3"
  },
  "language_info": {
   "codemirror_mode": {
    "name": "ipython",
    "version": 3
   },
   "file_extension": ".py",
   "mimetype": "text/x-python",
   "name": "python",
   "nbconvert_exporter": "python",
   "pygments_lexer": "ipython3",
   "version": "3.11.4"
  }
 },
 "nbformat": 4,
 "nbformat_minor": 4
}
