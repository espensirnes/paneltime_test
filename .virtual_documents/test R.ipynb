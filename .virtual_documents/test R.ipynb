require(rugarch) || {install.packages("rugarch"); require(rugarch)};


data <- read.csv("B:/Forskning/Papers/paneltime/pt_test/src/simulations/data0.csv", header=TRUE)
ptm <- proc.time()
garchMod <- ugarchspec(
  variance.model=list(model="fGARCH",
                      garchOrder=c(2,2),
                      submodel="GARCH"),
  
  mean.model=list(armaOrder=c(2,2),
                  include.mean=TRUE,
                  external.regressors=data.matrix(subset(data, select=c("X0","X1")))
  ), 
  distribution.model="norm"
)
garchFit <- ugarchfit(spec=garchMod, data=data$Y)
print(garchFit)
print("time:")
print(proc.time() - ptm)






