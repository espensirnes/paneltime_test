{
 "cells": [
  {
   "cell_type": "code",
   "execution_count": 1,
   "id": "7e5e21ba-ea8e-4d96-9da6-f27ce6bac171",
   "metadata": {},
   "outputs": [
    {
     "name": "stderr",
     "output_type": "stream",
     "text": [
      "Loading required package: rugarch\n",
      "\n",
      "Warning message in library(package, lib.loc = lib.loc, character.only = TRUE, logical.return = TRUE, :\n",
      "“there is no package called ‘rugarch’”\n",
      "Installing package into ‘/opt/homebrew/lib/R/4.3/site-library’\n",
      "(as ‘lib’ is unspecified)\n",
      "\n",
      "Warning message:\n",
      "“unable to access index for repository https://cran.r-project.org/src/contrib:\n",
      "  cannot open URL 'https://cran.r-project.org/src/contrib/PACKAGES'”\n",
      "Warning message:\n",
      "“package ‘rugarch’ is not available for this version of R\n",
      "\n",
      "A version of this package for your version of R might be available elsewhere,\n",
      "see the ideas at\n",
      "https://cran.r-project.org/doc/manuals/r-patched/R-admin.html#Installing-packages”\n",
      "Loading required package: rugarch\n",
      "\n",
      "Warning message in library(package, lib.loc = lib.loc, character.only = TRUE, logical.return = TRUE, :\n",
      "“there is no package called ‘rugarch’”\n"
     ]
    },
    {
     "data": {
      "text/html": [
       "FALSE"
      ],
      "text/latex": [
       "FALSE"
      ],
      "text/markdown": [
       "FALSE"
      ],
      "text/plain": [
       "[1] FALSE"
      ]
     },
     "metadata": {},
     "output_type": "display_data"
    }
   ],
   "source": [
    "require(rugarch) || {install.packages(\"rugarch\"); require(rugarch)};"
   ]
  },
  {
   "cell_type": "code",
   "execution_count": null,
   "id": "40c46c05-ab46-4082-9271-62c296df8ee3",
   "metadata": {},
   "outputs": [],
   "source": [
    "data <- read.csv(\"B:/Forskning/Papers/paneltime/pt_test/src/simulations/data0.csv\", header=TRUE)\n",
    "ptm <- proc.time()\n",
    "garchMod <- ugarchspec(\n",
    "  variance.model=list(model=\"fGARCH\",\n",
    "                      garchOrder=c(2,2),\n",
    "                      submodel=\"GARCH\"),\n",
    "  \n",
    "  mean.model=list(armaOrder=c(2,2),\n",
    "                  include.mean=TRUE,\n",
    "                  external.regressors=data.matrix(subset(data, select=c(\"X0\",\"X1\")))\n",
    "  ), \n",
    "  distribution.model=\"norm\"\n",
    ")\n",
    "garchFit <- ugarchfit(spec=garchMod, data=data$Y)\n",
    "print(garchFit)\n",
    "print(\"time:\")\n",
    "print(proc.time() - ptm)"
   ]
  },
  {
   "cell_type": "code",
   "execution_count": null,
   "id": "4075bfbf-0729-43fc-8c93-650a5ac600bd",
   "metadata": {},
   "outputs": [],
   "source": []
  },
  {
   "cell_type": "code",
   "execution_count": null,
   "id": "291125f2-b942-486f-b150-961c125bf593",
   "metadata": {},
   "outputs": [],
   "source": []
  }
 ],
 "metadata": {
  "kernelspec": {
   "display_name": "R",
   "language": "R",
   "name": "ir"
  },
  "language_info": {
   "codemirror_mode": "r",
   "file_extension": ".r",
   "mimetype": "text/x-r-source",
   "name": "R",
   "pygments_lexer": "r",
   "version": "4.3.2"
  }
 },
 "nbformat": 4,
 "nbformat_minor": 5
}
